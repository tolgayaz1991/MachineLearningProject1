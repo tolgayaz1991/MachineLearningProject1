{
 "cells": [
  {
   "cell_type": "markdown",
   "id": "7dfde78d",
   "metadata": {},
   "source": [
    "---"
   ]
  },
  {
   "cell_type": "markdown",
   "id": "93b065bb",
   "metadata": {},
   "source": [
    "# 0. Machine Learning with Python 1 (Project 1, Linear Regression)\n",
    "\n",
    "# Goal: \n",
    "\n",
    "## Finding the relationship between fuel consumption and co2 emission of a car\n",
    "\n",
    "# _00. Import Main Libraries_\n",
    "\n",
    "# _01. Load the Data and Explore the Basics of It_\n",
    "\n",
    "# _02. Plot the Selected Data_\n",
    "\n",
    "# _03. Training, Testing and Some Evaluation_\n",
    "\n",
    "# _04. Cross-Validation for Multiple Linear Reg_\n",
    "\n",
    "# _05. A Pipeline_"
   ]
  },
  {
   "cell_type": "markdown",
   "id": "eb3b405c",
   "metadata": {},
   "source": [
    "---\n",
    "---\n",
    "---"
   ]
  },
  {
   "cell_type": "markdown",
   "id": "3fcbc616",
   "metadata": {},
   "source": [
    "# _00. Import Main Libraries_"
   ]
  },
  {
   "cell_type": "code",
   "execution_count": 1,
   "id": "acaa133d",
   "metadata": {},
   "outputs": [],
   "source": [
    "import matplotlib.pyplot as plt\n",
    "\n",
    "import pandas as pd\n",
    "\n",
    "import pylab as pl\n",
    "\n",
    "import numpy as np\n",
    "\n",
    "%matplotlib inline"
   ]
  },
  {
   "cell_type": "markdown",
   "id": "576e3826",
   "metadata": {},
   "source": [
    "# _01. Load the Data_"
   ]
  },
  {
   "cell_type": "code",
   "execution_count": 2,
   "id": "4c77f5e7",
   "metadata": {},
   "outputs": [
    {
     "data": {
      "text/html": [
       "<div>\n",
       "<style scoped>\n",
       "    .dataframe tbody tr th:only-of-type {\n",
       "        vertical-align: middle;\n",
       "    }\n",
       "\n",
       "    .dataframe tbody tr th {\n",
       "        vertical-align: top;\n",
       "    }\n",
       "\n",
       "    .dataframe thead th {\n",
       "        text-align: right;\n",
       "    }\n",
       "</style>\n",
       "<table border=\"1\" class=\"dataframe\">\n",
       "  <thead>\n",
       "    <tr style=\"text-align: right;\">\n",
       "      <th></th>\n",
       "      <th>MODELYEAR</th>\n",
       "      <th>MAKE</th>\n",
       "      <th>MODEL</th>\n",
       "      <th>VEHICLECLASS</th>\n",
       "      <th>ENGINESIZE</th>\n",
       "      <th>CYLINDERS</th>\n",
       "      <th>TRANSMISSION</th>\n",
       "      <th>FUELTYPE</th>\n",
       "      <th>FUELCONSUMPTION_CITY</th>\n",
       "      <th>FUELCONSUMPTION_HWY</th>\n",
       "      <th>FUELCONSUMPTION_COMB</th>\n",
       "      <th>FUELCONSUMPTION_COMB_MPG</th>\n",
       "      <th>CO2EMISSIONS</th>\n",
       "    </tr>\n",
       "  </thead>\n",
       "  <tbody>\n",
       "    <tr>\n",
       "      <th>0</th>\n",
       "      <td>2014</td>\n",
       "      <td>ACURA</td>\n",
       "      <td>ILX</td>\n",
       "      <td>COMPACT</td>\n",
       "      <td>2.0</td>\n",
       "      <td>4</td>\n",
       "      <td>AS5</td>\n",
       "      <td>Z</td>\n",
       "      <td>9.9</td>\n",
       "      <td>6.7</td>\n",
       "      <td>8.5</td>\n",
       "      <td>33</td>\n",
       "      <td>196</td>\n",
       "    </tr>\n",
       "    <tr>\n",
       "      <th>1</th>\n",
       "      <td>2014</td>\n",
       "      <td>ACURA</td>\n",
       "      <td>ILX</td>\n",
       "      <td>COMPACT</td>\n",
       "      <td>2.4</td>\n",
       "      <td>4</td>\n",
       "      <td>M6</td>\n",
       "      <td>Z</td>\n",
       "      <td>11.2</td>\n",
       "      <td>7.7</td>\n",
       "      <td>9.6</td>\n",
       "      <td>29</td>\n",
       "      <td>221</td>\n",
       "    </tr>\n",
       "    <tr>\n",
       "      <th>2</th>\n",
       "      <td>2014</td>\n",
       "      <td>ACURA</td>\n",
       "      <td>ILX HYBRID</td>\n",
       "      <td>COMPACT</td>\n",
       "      <td>1.5</td>\n",
       "      <td>4</td>\n",
       "      <td>AV7</td>\n",
       "      <td>Z</td>\n",
       "      <td>6.0</td>\n",
       "      <td>5.8</td>\n",
       "      <td>5.9</td>\n",
       "      <td>48</td>\n",
       "      <td>136</td>\n",
       "    </tr>\n",
       "    <tr>\n",
       "      <th>3</th>\n",
       "      <td>2014</td>\n",
       "      <td>ACURA</td>\n",
       "      <td>MDX 4WD</td>\n",
       "      <td>SUV - SMALL</td>\n",
       "      <td>3.5</td>\n",
       "      <td>6</td>\n",
       "      <td>AS6</td>\n",
       "      <td>Z</td>\n",
       "      <td>12.7</td>\n",
       "      <td>9.1</td>\n",
       "      <td>11.1</td>\n",
       "      <td>25</td>\n",
       "      <td>255</td>\n",
       "    </tr>\n",
       "    <tr>\n",
       "      <th>4</th>\n",
       "      <td>2014</td>\n",
       "      <td>ACURA</td>\n",
       "      <td>RDX AWD</td>\n",
       "      <td>SUV - SMALL</td>\n",
       "      <td>3.5</td>\n",
       "      <td>6</td>\n",
       "      <td>AS6</td>\n",
       "      <td>Z</td>\n",
       "      <td>12.1</td>\n",
       "      <td>8.7</td>\n",
       "      <td>10.6</td>\n",
       "      <td>27</td>\n",
       "      <td>244</td>\n",
       "    </tr>\n",
       "  </tbody>\n",
       "</table>\n",
       "</div>"
      ],
      "text/plain": [
       "   MODELYEAR   MAKE       MODEL VEHICLECLASS  ENGINESIZE  CYLINDERS  \\\n",
       "0       2014  ACURA         ILX      COMPACT         2.0          4   \n",
       "1       2014  ACURA         ILX      COMPACT         2.4          4   \n",
       "2       2014  ACURA  ILX HYBRID      COMPACT         1.5          4   \n",
       "3       2014  ACURA     MDX 4WD  SUV - SMALL         3.5          6   \n",
       "4       2014  ACURA     RDX AWD  SUV - SMALL         3.5          6   \n",
       "\n",
       "  TRANSMISSION FUELTYPE  FUELCONSUMPTION_CITY  FUELCONSUMPTION_HWY  \\\n",
       "0          AS5        Z                   9.9                  6.7   \n",
       "1           M6        Z                  11.2                  7.7   \n",
       "2          AV7        Z                   6.0                  5.8   \n",
       "3          AS6        Z                  12.7                  9.1   \n",
       "4          AS6        Z                  12.1                  8.7   \n",
       "\n",
       "   FUELCONSUMPTION_COMB  FUELCONSUMPTION_COMB_MPG  CO2EMISSIONS  \n",
       "0                   8.5                        33           196  \n",
       "1                   9.6                        29           221  \n",
       "2                   5.9                        48           136  \n",
       "3                  11.1                        25           255  \n",
       "4                  10.6                        27           244  "
      ]
     },
     "execution_count": 2,
     "metadata": {},
     "output_type": "execute_result"
    }
   ],
   "source": [
    "df = pd.read_csv(\"FuelConsumptionCo2.csv\")\n",
    "\n",
    "df.head()"
   ]
  },
  {
   "cell_type": "code",
   "execution_count": 3,
   "id": "712b9820",
   "metadata": {},
   "outputs": [
    {
     "data": {
      "text/html": [
       "<div>\n",
       "<style scoped>\n",
       "    .dataframe tbody tr th:only-of-type {\n",
       "        vertical-align: middle;\n",
       "    }\n",
       "\n",
       "    .dataframe tbody tr th {\n",
       "        vertical-align: top;\n",
       "    }\n",
       "\n",
       "    .dataframe thead th {\n",
       "        text-align: right;\n",
       "    }\n",
       "</style>\n",
       "<table border=\"1\" class=\"dataframe\">\n",
       "  <thead>\n",
       "    <tr style=\"text-align: right;\">\n",
       "      <th></th>\n",
       "      <th>MODELYEAR</th>\n",
       "      <th>ENGINESIZE</th>\n",
       "      <th>CYLINDERS</th>\n",
       "      <th>FUELCONSUMPTION_CITY</th>\n",
       "      <th>FUELCONSUMPTION_HWY</th>\n",
       "      <th>FUELCONSUMPTION_COMB</th>\n",
       "      <th>FUELCONSUMPTION_COMB_MPG</th>\n",
       "      <th>CO2EMISSIONS</th>\n",
       "    </tr>\n",
       "  </thead>\n",
       "  <tbody>\n",
       "    <tr>\n",
       "      <th>count</th>\n",
       "      <td>1067.0</td>\n",
       "      <td>1067.000000</td>\n",
       "      <td>1067.000000</td>\n",
       "      <td>1067.000000</td>\n",
       "      <td>1067.000000</td>\n",
       "      <td>1067.000000</td>\n",
       "      <td>1067.000000</td>\n",
       "      <td>1067.000000</td>\n",
       "    </tr>\n",
       "    <tr>\n",
       "      <th>mean</th>\n",
       "      <td>2014.0</td>\n",
       "      <td>3.346298</td>\n",
       "      <td>5.794752</td>\n",
       "      <td>13.296532</td>\n",
       "      <td>9.474602</td>\n",
       "      <td>11.580881</td>\n",
       "      <td>26.441425</td>\n",
       "      <td>256.228679</td>\n",
       "    </tr>\n",
       "    <tr>\n",
       "      <th>std</th>\n",
       "      <td>0.0</td>\n",
       "      <td>1.415895</td>\n",
       "      <td>1.797447</td>\n",
       "      <td>4.101253</td>\n",
       "      <td>2.794510</td>\n",
       "      <td>3.485595</td>\n",
       "      <td>7.468702</td>\n",
       "      <td>63.372304</td>\n",
       "    </tr>\n",
       "    <tr>\n",
       "      <th>min</th>\n",
       "      <td>2014.0</td>\n",
       "      <td>1.000000</td>\n",
       "      <td>3.000000</td>\n",
       "      <td>4.600000</td>\n",
       "      <td>4.900000</td>\n",
       "      <td>4.700000</td>\n",
       "      <td>11.000000</td>\n",
       "      <td>108.000000</td>\n",
       "    </tr>\n",
       "    <tr>\n",
       "      <th>25%</th>\n",
       "      <td>2014.0</td>\n",
       "      <td>2.000000</td>\n",
       "      <td>4.000000</td>\n",
       "      <td>10.250000</td>\n",
       "      <td>7.500000</td>\n",
       "      <td>9.000000</td>\n",
       "      <td>21.000000</td>\n",
       "      <td>207.000000</td>\n",
       "    </tr>\n",
       "    <tr>\n",
       "      <th>50%</th>\n",
       "      <td>2014.0</td>\n",
       "      <td>3.400000</td>\n",
       "      <td>6.000000</td>\n",
       "      <td>12.600000</td>\n",
       "      <td>8.800000</td>\n",
       "      <td>10.900000</td>\n",
       "      <td>26.000000</td>\n",
       "      <td>251.000000</td>\n",
       "    </tr>\n",
       "    <tr>\n",
       "      <th>75%</th>\n",
       "      <td>2014.0</td>\n",
       "      <td>4.300000</td>\n",
       "      <td>8.000000</td>\n",
       "      <td>15.550000</td>\n",
       "      <td>10.850000</td>\n",
       "      <td>13.350000</td>\n",
       "      <td>31.000000</td>\n",
       "      <td>294.000000</td>\n",
       "    </tr>\n",
       "    <tr>\n",
       "      <th>max</th>\n",
       "      <td>2014.0</td>\n",
       "      <td>8.400000</td>\n",
       "      <td>12.000000</td>\n",
       "      <td>30.200000</td>\n",
       "      <td>20.500000</td>\n",
       "      <td>25.800000</td>\n",
       "      <td>60.000000</td>\n",
       "      <td>488.000000</td>\n",
       "    </tr>\n",
       "  </tbody>\n",
       "</table>\n",
       "</div>"
      ],
      "text/plain": [
       "       MODELYEAR   ENGINESIZE    CYLINDERS  FUELCONSUMPTION_CITY  \\\n",
       "count     1067.0  1067.000000  1067.000000           1067.000000   \n",
       "mean      2014.0     3.346298     5.794752             13.296532   \n",
       "std          0.0     1.415895     1.797447              4.101253   \n",
       "min       2014.0     1.000000     3.000000              4.600000   \n",
       "25%       2014.0     2.000000     4.000000             10.250000   \n",
       "50%       2014.0     3.400000     6.000000             12.600000   \n",
       "75%       2014.0     4.300000     8.000000             15.550000   \n",
       "max       2014.0     8.400000    12.000000             30.200000   \n",
       "\n",
       "       FUELCONSUMPTION_HWY  FUELCONSUMPTION_COMB  FUELCONSUMPTION_COMB_MPG  \\\n",
       "count          1067.000000           1067.000000               1067.000000   \n",
       "mean              9.474602             11.580881                 26.441425   \n",
       "std               2.794510              3.485595                  7.468702   \n",
       "min               4.900000              4.700000                 11.000000   \n",
       "25%               7.500000              9.000000                 21.000000   \n",
       "50%               8.800000             10.900000                 26.000000   \n",
       "75%              10.850000             13.350000                 31.000000   \n",
       "max              20.500000             25.800000                 60.000000   \n",
       "\n",
       "       CO2EMISSIONS  \n",
       "count   1067.000000  \n",
       "mean     256.228679  \n",
       "std       63.372304  \n",
       "min      108.000000  \n",
       "25%      207.000000  \n",
       "50%      251.000000  \n",
       "75%      294.000000  \n",
       "max      488.000000  "
      ]
     },
     "execution_count": 3,
     "metadata": {},
     "output_type": "execute_result"
    }
   ],
   "source": [
    "df.describe()"
   ]
  },
  {
   "cell_type": "code",
   "execution_count": 4,
   "id": "a1a631cd",
   "metadata": {},
   "outputs": [
    {
     "data": {
      "text/html": [
       "<div>\n",
       "<style scoped>\n",
       "    .dataframe tbody tr th:only-of-type {\n",
       "        vertical-align: middle;\n",
       "    }\n",
       "\n",
       "    .dataframe tbody tr th {\n",
       "        vertical-align: top;\n",
       "    }\n",
       "\n",
       "    .dataframe thead th {\n",
       "        text-align: right;\n",
       "    }\n",
       "</style>\n",
       "<table border=\"1\" class=\"dataframe\">\n",
       "  <thead>\n",
       "    <tr style=\"text-align: right;\">\n",
       "      <th></th>\n",
       "      <th>ENGINESIZE</th>\n",
       "      <th>CYLINDERS</th>\n",
       "      <th>FUELCONSUMPTION_COMB</th>\n",
       "      <th>CO2EMISSIONS</th>\n",
       "    </tr>\n",
       "  </thead>\n",
       "  <tbody>\n",
       "    <tr>\n",
       "      <th>0</th>\n",
       "      <td>2.0</td>\n",
       "      <td>4</td>\n",
       "      <td>8.5</td>\n",
       "      <td>196</td>\n",
       "    </tr>\n",
       "    <tr>\n",
       "      <th>1</th>\n",
       "      <td>2.4</td>\n",
       "      <td>4</td>\n",
       "      <td>9.6</td>\n",
       "      <td>221</td>\n",
       "    </tr>\n",
       "    <tr>\n",
       "      <th>2</th>\n",
       "      <td>1.5</td>\n",
       "      <td>4</td>\n",
       "      <td>5.9</td>\n",
       "      <td>136</td>\n",
       "    </tr>\n",
       "    <tr>\n",
       "      <th>3</th>\n",
       "      <td>3.5</td>\n",
       "      <td>6</td>\n",
       "      <td>11.1</td>\n",
       "      <td>255</td>\n",
       "    </tr>\n",
       "    <tr>\n",
       "      <th>4</th>\n",
       "      <td>3.5</td>\n",
       "      <td>6</td>\n",
       "      <td>10.6</td>\n",
       "      <td>244</td>\n",
       "    </tr>\n",
       "  </tbody>\n",
       "</table>\n",
       "</div>"
      ],
      "text/plain": [
       "   ENGINESIZE  CYLINDERS  FUELCONSUMPTION_COMB  CO2EMISSIONS\n",
       "0         2.0          4                   8.5           196\n",
       "1         2.4          4                   9.6           221\n",
       "2         1.5          4                   5.9           136\n",
       "3         3.5          6                  11.1           255\n",
       "4         3.5          6                  10.6           244"
      ]
     },
     "execution_count": 4,
     "metadata": {},
     "output_type": "execute_result"
    }
   ],
   "source": [
    "# select some features to explore more\n",
    "\n",
    "df1 = df[['ENGINESIZE','CYLINDERS','FUELCONSUMPTION_COMB','CO2EMISSIONS']]\n",
    "\n",
    "df1.head()"
   ]
  },
  {
   "cell_type": "markdown",
   "id": "52d98186",
   "metadata": {},
   "source": [
    "# _02. Plot the Selected Data_\n"
   ]
  },
  {
   "cell_type": "code",
   "execution_count": 5,
   "id": "66a76d4e",
   "metadata": {},
   "outputs": [
    {
     "data": {
      "image/png": "[encoded data removed]",
      "text/plain": [
       "<Figure size 432x288 with 4 Axes>"
      ]
     },
     "metadata": {
      "needs_background": "light"
     },
     "output_type": "display_data"
    }
   ],
   "source": [
    "# hist plot\n",
    "\n",
    "df1.hist()\n",
    "\n",
    "plt.show()"
   ]
  },
  {
   "cell_type": "code",
   "execution_count": 6,
   "id": "f1525f9b",
   "metadata": {},
   "outputs": [
    {
     "data": {
      "image/png": "[encoded data removed]",
      "text/plain": [
       "<Figure size 432x288 with 1 Axes>"
      ]
     },
     "metadata": {
      "needs_background": "light"
     },
     "output_type": "display_data"
    },
    {
     "data": {
      "image/png": "[encoded data removed]",
      "text/plain": [
       "<Figure size 432x288 with 1 Axes>"
      ]
     },
     "metadata": {
      "needs_background": "light"
     },
     "output_type": "display_data"
    },
    {
     "data": {
      "image/png": "[encoded data removed]",
      "text/plain": [
       "<Figure size 432x288 with 1 Axes>"
      ]
     },
     "metadata": {
      "needs_background": "light"
     },
     "output_type": "display_data"
    }
   ],
   "source": [
    "# scatter plots of predictor vs target var\n",
    "\n",
    "plt.scatter(df1.FUELCONSUMPTION_COMB, df1.CO2EMISSIONS,  color='blue')\n",
    "plt.xlabel(\"Fuel Consumption Comb\", fontsize = 15)\n",
    "plt.ylabel(\"Emission\", fontsize = 15)\n",
    "plt.show()\n",
    "\n",
    "plt.scatter(df1.ENGINESIZE, df1.CO2EMISSIONS,  color='blue')\n",
    "plt.xlabel(\"Engine size\", fontsize = 15)\n",
    "plt.ylabel(\"Emission\", fontsize = 15)\n",
    "plt.show()\n",
    "\n",
    "plt.scatter(df1.CYLINDERS, df1.CO2EMISSIONS,  color='blue')\n",
    "plt.xlabel(\"Cylinders\", fontsize = 15)\n",
    "plt.ylabel(\"Emission\", fontsize = 15)\n",
    "plt.show()"
   ]
  },
  {
   "cell_type": "code",
   "execution_count": 7,
   "id": "f2c6a7d6",
   "metadata": {},
   "outputs": [],
   "source": [
    "# import seaborn package for regplots\n",
    "\n",
    "import seaborn as sns"
   ]
  },
  {
   "cell_type": "code",
   "execution_count": 8,
   "id": "fc3f8cda",
   "metadata": {},
   "outputs": [
    {
     "data": {
      "image/png": "[encoded data removed]",
      "text/plain": [
       "<Figure size 432x288 with 1 Axes>"
      ]
     },
     "metadata": {
      "needs_background": "light"
     },
     "output_type": "display_data"
    },
    {
     "data": {
      "image/png": "[encoded data removed]",
      "text/plain": [
       "<Figure size 432x288 with 1 Axes>"
      ]
     },
     "metadata": {
      "needs_background": "light"
     },
     "output_type": "display_data"
    },
    {
     "data": {
      "image/png": "[encoded data removed]",
      "text/plain": [
       "<Figure size 432x288 with 1 Axes>"
      ]
     },
     "metadata": {
      "needs_background": "light"
     },
     "output_type": "display_data"
    }
   ],
   "source": [
    "# scatter plots of predictor vs target var\n",
    "\n",
    "sns.regplot(x=\"FUELCONSUMPTION_COMB\", y = \"CO2EMISSIONS\", data = df1)\n",
    "plt.ylim (0,)\n",
    "plt.xlabel(\"Fuel Consumption Comb\", fontsize = 15)\n",
    "plt.ylabel(\"Emission\", fontsize = 15)\n",
    "plt.show()\n",
    "\n",
    "sns.regplot(x=\"ENGINESIZE\", y = \"CO2EMISSIONS\", data = df1)\n",
    "plt.ylim (0,)\n",
    "plt.xlabel(\"Engine Size\", fontsize = 15)\n",
    "plt.ylabel(\"Emission\", fontsize = 15)\n",
    "plt.show()\n",
    "\n",
    "sns.regplot(x=\"CYLINDERS\", y = \"CO2EMISSIONS\", data = df1)\n",
    "plt.ylim (0,)\n",
    "plt.xlabel(\"Engine Size\", fontsize = 15)\n",
    "plt.ylabel(\"Cylinders\", fontsize = 15)\n",
    "plt.show()"
   ]
  },
  {
   "cell_type": "markdown",
   "id": "f9830f50",
   "metadata": {},
   "source": [
    "# _03. Scaling, Training and Testing_"
   ]
  },
  {
   "cell_type": "code",
   "execution_count": 9,
   "id": "6c505d81",
   "metadata": {},
   "outputs": [],
   "source": [
    "# import for lin reg model\n",
    "\n",
    "from sklearn.linear_model import LinearRegression\n",
    "\n",
    "# import for train and test split\n",
    "\n",
    "from sklearn.model_selection import train_test_split"
   ]
  },
  {
   "cell_type": "code",
   "execution_count": 10,
   "id": "93bdbd1a",
   "metadata": {},
   "outputs": [
    {
     "name": "stdout",
     "output_type": "stream",
     "text": [
      "number of training samples: 853\n",
      "number of test samples : 214\n"
     ]
    }
   ],
   "source": [
    "# apply train and test split\n",
    "\n",
    "x_data=df1.drop('CO2EMISSIONS',axis=1)\n",
    "\n",
    "y_data = df1[[\"CO2EMISSIONS\"]]\n",
    "\n",
    "x_train, x_test, y_train, y_test = train_test_split(x_data, y_data, test_size=0.2, random_state=1)\n",
    "\n",
    "print(\"number of training samples:\",x_train.shape[0])\n",
    "print(\"number of test samples :\", x_test.shape[0])"
   ]
  },
  {
   "cell_type": "code",
   "execution_count": 11,
   "id": "2b471ba9",
   "metadata": {
    "scrolled": true
   },
   "outputs": [
    {
     "data": {
      "image/png": "[encoded data removed]",
      "text/plain": [
       "<Figure size 1080x720 with 1 Axes>"
      ]
     },
     "metadata": {
      "needs_background": "light"
     },
     "output_type": "display_data"
    }
   ],
   "source": [
    "# scatterplot of Engine Size vs Emission\n",
    "\n",
    "# plt.title(Title)\n",
    "\n",
    "width = 15\n",
    "height = 10\n",
    "plt.figure(figsize=(width, height))\n",
    "\n",
    "plt.scatter(x_train.ENGINESIZE, y_train,  color='blue')\n",
    "plt.xlabel(\"Engine Size\", fontsize = 15)\n",
    "plt.ylabel(\"Emission\", fontsize = 15)\n",
    "plt.show()"
   ]
  },
  {
   "cell_type": "code",
   "execution_count": 12,
   "id": "d1812939",
   "metadata": {},
   "outputs": [
    {
     "data": {
      "text/plain": [
       "(88.0, 508.0)"
      ]
     },
     "execution_count": 12,
     "metadata": {},
     "output_type": "execute_result"
    },
    {
     "data": {
      "image/png": "[encoded data removed]",
      "text/plain": [
       "<Figure size 432x288 with 1 Axes>"
      ]
     },
     "metadata": {
      "needs_background": "light"
     },
     "output_type": "display_data"
    }
   ],
   "source": [
    "# regplot of the same data\n",
    "# we can add marker=\"+\"\n",
    "\n",
    "sns.regplot(x=x_train.ENGINESIZE, y = y_train,  scatter_kws={\"color\": \"black\"}, line_kws={\"color\": \"red\"})\n",
    "\n",
    "plt.xlabel(\"Engine Size\", fontsize = 15)\n",
    "plt.ylabel(\"Emission\", fontsize = 15)\n",
    "plt.xlim(0,max(x_train.ENGINESIZE)+1)\n",
    "plt.ylim(min(y_train.CO2EMISSIONS)-20,max(y_train.CO2EMISSIONS)+20)"
   ]
  },
  {
   "cell_type": "code",
   "execution_count": 13,
   "id": "b0d837bc",
   "metadata": {},
   "outputs": [
    {
     "data": {
      "text/html": [
       "<div>\n",
       "<style scoped>\n",
       "    .dataframe tbody tr th:only-of-type {\n",
       "        vertical-align: middle;\n",
       "    }\n",
       "\n",
       "    .dataframe tbody tr th {\n",
       "        vertical-align: top;\n",
       "    }\n",
       "\n",
       "    .dataframe thead th {\n",
       "        text-align: right;\n",
       "    }\n",
       "</style>\n",
       "<table border=\"1\" class=\"dataframe\">\n",
       "  <thead>\n",
       "    <tr style=\"text-align: right;\">\n",
       "      <th></th>\n",
       "      <th>ENGINESIZE</th>\n",
       "      <th>CYLINDERS</th>\n",
       "      <th>FUELCONSUMPTION_COMB</th>\n",
       "    </tr>\n",
       "  </thead>\n",
       "  <tbody>\n",
       "    <tr>\n",
       "      <th>0</th>\n",
       "      <td>0.270270</td>\n",
       "      <td>0.333333</td>\n",
       "      <td>0.366667</td>\n",
       "    </tr>\n",
       "    <tr>\n",
       "      <th>1</th>\n",
       "      <td>0.729730</td>\n",
       "      <td>0.555556</td>\n",
       "      <td>0.433333</td>\n",
       "    </tr>\n",
       "    <tr>\n",
       "      <th>2</th>\n",
       "      <td>0.202703</td>\n",
       "      <td>0.111111</td>\n",
       "      <td>0.228571</td>\n",
       "    </tr>\n",
       "    <tr>\n",
       "      <th>3</th>\n",
       "      <td>0.513514</td>\n",
       "      <td>0.555556</td>\n",
       "      <td>0.438095</td>\n",
       "    </tr>\n",
       "    <tr>\n",
       "      <th>4</th>\n",
       "      <td>0.405405</td>\n",
       "      <td>0.555556</td>\n",
       "      <td>0.376190</td>\n",
       "    </tr>\n",
       "    <tr>\n",
       "      <th>...</th>\n",
       "      <td>...</td>\n",
       "      <td>...</td>\n",
       "      <td>...</td>\n",
       "    </tr>\n",
       "    <tr>\n",
       "      <th>848</th>\n",
       "      <td>0.081081</td>\n",
       "      <td>0.111111</td>\n",
       "      <td>0.190476</td>\n",
       "    </tr>\n",
       "    <tr>\n",
       "      <th>849</th>\n",
       "      <td>0.202703</td>\n",
       "      <td>0.111111</td>\n",
       "      <td>0.138095</td>\n",
       "    </tr>\n",
       "    <tr>\n",
       "      <th>850</th>\n",
       "      <td>0.513514</td>\n",
       "      <td>0.555556</td>\n",
       "      <td>0.380952</td>\n",
       "    </tr>\n",
       "    <tr>\n",
       "      <th>851</th>\n",
       "      <td>0.189189</td>\n",
       "      <td>0.111111</td>\n",
       "      <td>0.280952</td>\n",
       "    </tr>\n",
       "    <tr>\n",
       "      <th>852</th>\n",
       "      <td>0.297297</td>\n",
       "      <td>0.333333</td>\n",
       "      <td>0.309524</td>\n",
       "    </tr>\n",
       "  </tbody>\n",
       "</table>\n",
       "<p>853 rows × 3 columns</p>\n",
       "</div>"
      ],
      "text/plain": [
       "     ENGINESIZE  CYLINDERS  FUELCONSUMPTION_COMB\n",
       "0      0.270270   0.333333              0.366667\n",
       "1      0.729730   0.555556              0.433333\n",
       "2      0.202703   0.111111              0.228571\n",
       "3      0.513514   0.555556              0.438095\n",
       "4      0.405405   0.555556              0.376190\n",
       "..          ...        ...                   ...\n",
       "848    0.081081   0.111111              0.190476\n",
       "849    0.202703   0.111111              0.138095\n",
       "850    0.513514   0.555556              0.380952\n",
       "851    0.189189   0.111111              0.280952\n",
       "852    0.297297   0.333333              0.309524\n",
       "\n",
       "[853 rows x 3 columns]"
      ]
     },
     "execution_count": 13,
     "metadata": {},
     "output_type": "execute_result"
    }
   ],
   "source": [
    "# scaling for training predictors\n",
    "\n",
    "from sklearn.preprocessing import MinMaxScaler\n",
    "\n",
    "MinMaxScaler1 = MinMaxScaler()\n",
    "\n",
    "x_train1 = MinMaxScaler1.fit_transform(x_train)\n",
    "\n",
    "x_train1 = pd.DataFrame(x_train1, columns = x_train.columns)\n",
    "\n",
    "x_train1"
   ]
  },
  {
   "cell_type": "code",
   "execution_count": 14,
   "id": "220630d3",
   "metadata": {},
   "outputs": [
    {
     "data": {
      "text/html": [
       "<div>\n",
       "<style scoped>\n",
       "    .dataframe tbody tr th:only-of-type {\n",
       "        vertical-align: middle;\n",
       "    }\n",
       "\n",
       "    .dataframe tbody tr th {\n",
       "        vertical-align: top;\n",
       "    }\n",
       "\n",
       "    .dataframe thead th {\n",
       "        text-align: right;\n",
       "    }\n",
       "</style>\n",
       "<table border=\"1\" class=\"dataframe\">\n",
       "  <thead>\n",
       "    <tr style=\"text-align: right;\">\n",
       "      <th></th>\n",
       "      <th>CO2EMISSIONS</th>\n",
       "    </tr>\n",
       "  </thead>\n",
       "  <tbody>\n",
       "    <tr>\n",
       "      <th>0</th>\n",
       "      <td>0.465789</td>\n",
       "    </tr>\n",
       "    <tr>\n",
       "      <th>1</th>\n",
       "      <td>0.550000</td>\n",
       "    </tr>\n",
       "    <tr>\n",
       "      <th>2</th>\n",
       "      <td>0.289474</td>\n",
       "    </tr>\n",
       "    <tr>\n",
       "      <th>3</th>\n",
       "      <td>0.557895</td>\n",
       "    </tr>\n",
       "    <tr>\n",
       "      <th>4</th>\n",
       "      <td>0.478947</td>\n",
       "    </tr>\n",
       "    <tr>\n",
       "      <th>...</th>\n",
       "      <td>...</td>\n",
       "    </tr>\n",
       "    <tr>\n",
       "      <th>848</th>\n",
       "      <td>0.242105</td>\n",
       "    </tr>\n",
       "    <tr>\n",
       "      <th>849</th>\n",
       "      <td>0.176316</td>\n",
       "    </tr>\n",
       "    <tr>\n",
       "      <th>850</th>\n",
       "      <td>0.484211</td>\n",
       "    </tr>\n",
       "    <tr>\n",
       "      <th>851</th>\n",
       "      <td>0.357895</td>\n",
       "    </tr>\n",
       "    <tr>\n",
       "      <th>852</th>\n",
       "      <td>0.394737</td>\n",
       "    </tr>\n",
       "  </tbody>\n",
       "</table>\n",
       "<p>853 rows × 1 columns</p>\n",
       "</div>"
      ],
      "text/plain": [
       "     CO2EMISSIONS\n",
       "0        0.465789\n",
       "1        0.550000\n",
       "2        0.289474\n",
       "3        0.557895\n",
       "4        0.478947\n",
       "..            ...\n",
       "848      0.242105\n",
       "849      0.176316\n",
       "850      0.484211\n",
       "851      0.357895\n",
       "852      0.394737\n",
       "\n",
       "[853 rows x 1 columns]"
      ]
     },
     "execution_count": 14,
     "metadata": {},
     "output_type": "execute_result"
    }
   ],
   "source": [
    "# scaling for training target var\n",
    "\n",
    "MinMaxScaler2 = MinMaxScaler()\n",
    "\n",
    "y_train1 = MinMaxScaler2.fit_transform(y_train)\n",
    "\n",
    "y_train1 = pd.DataFrame(y_train1, columns = y_train.columns)\n",
    "\n",
    "y_train1"
   ]
  },
  {
   "cell_type": "code",
   "execution_count": 15,
   "id": "2e5b1604",
   "metadata": {},
   "outputs": [],
   "source": [
    "# lin reg object\n",
    "\n",
    "lre = LinearRegression()"
   ]
  },
  {
   "cell_type": "code",
   "execution_count": 16,
   "id": "57597774",
   "metadata": {},
   "outputs": [
    {
     "name": "stdout",
     "output_type": "stream",
     "text": [
      "Coefficients:  [[0.76756256]]\n",
      "Intercept:  [0.14785782]\n"
     ]
    }
   ],
   "source": [
    "# fit the lre object with the train set\n",
    "\n",
    "lre.fit(x_train1[[\"ENGINESIZE\"]], y_train1)\n",
    "\n",
    "# The coefficients\n",
    "print ('Coefficients: ', lre.coef_)\n",
    "print ('Intercept: ', lre.intercept_)"
   ]
  },
  {
   "cell_type": "code",
   "execution_count": 17,
   "id": "b62105d8",
   "metadata": {},
   "outputs": [],
   "source": [
    "# scaling (only transform, not fit_transform) for test vars\n",
    "\n",
    "x_test1 = MinMaxScaler1.transform(x_test)\n",
    "\n",
    "x_test1 = pd.DataFrame(x_test1, columns = x_test.columns)\n",
    "\n",
    "y_test1 = MinMaxScaler2.transform(y_test)\n",
    "\n",
    "y_test1 = pd.DataFrame(y_test1, columns = y_test.columns)"
   ]
  },
  {
   "cell_type": "code",
   "execution_count": 18,
   "id": "14ccfc49",
   "metadata": {},
   "outputs": [],
   "source": [
    "# predict the test data with fitted line\n",
    "\n",
    "y_test_hat1 = lre.predict(x_test1[[\"ENGINESIZE\"]])\n",
    "\n",
    "# if you want the input data as an array, you can use: test_x = np.asanyarray(x_test[[\"ENGINESIZE\"]])"
   ]
  },
  {
   "cell_type": "code",
   "execution_count": 19,
   "id": "6f66f6fa",
   "metadata": {},
   "outputs": [],
   "source": [
    "# inverse scale transform\n",
    "\n",
    "y_test_hat = MinMaxScaler2.inverse_transform(y_test_hat1)"
   ]
  },
  {
   "cell_type": "code",
   "execution_count": 20,
   "id": "61e6d26c",
   "metadata": {},
   "outputs": [
    {
     "data": {
      "text/plain": [
       "23.206541542107978"
      ]
     },
     "execution_count": 20,
     "metadata": {},
     "output_type": "execute_result"
    }
   ],
   "source": [
    "# find mean absolute error\n",
    "\n",
    "from sklearn.metrics import mean_absolute_error\n",
    "\n",
    "mae = mean_absolute_error(y_test, y_test_hat)\n",
    "\n",
    "mae"
   ]
  },
  {
   "cell_type": "code",
   "execution_count": 21,
   "id": "4919eb24",
   "metadata": {},
   "outputs": [
    {
     "data": {
      "text/plain": [
       "955.3707648173706"
      ]
     },
     "execution_count": 21,
     "metadata": {},
     "output_type": "execute_result"
    }
   ],
   "source": [
    "# find mean square error\n",
    "\n",
    "from sklearn.metrics import mean_squared_error\n",
    "\n",
    "mse = mean_squared_error(y_test, y_test_hat)\n",
    "\n",
    "mse"
   ]
  },
  {
   "cell_type": "code",
   "execution_count": 22,
   "id": "61bf04d2",
   "metadata": {},
   "outputs": [
    {
     "name": "stdout",
     "output_type": "stream",
     "text": [
      "0.7644809223805962\n"
     ]
    }
   ],
   "source": [
    "# calculate r^2 with test data\n",
    "\n",
    "score1 = lre.score(x_test1[[\"ENGINESIZE\"]], y_test1)\n",
    "\n",
    "print(score1)"
   ]
  },
  {
   "cell_type": "code",
   "execution_count": 32,
   "id": "671a7be7",
   "metadata": {},
   "outputs": [
    {
     "name": "stdout",
     "output_type": "stream",
     "text": [
      "0.7639480562303456\n"
     ]
    }
   ],
   "source": [
    "# calculate r^2 with training data\n",
    "\n",
    "score1 = lre.score(x_train1[[\"ENGINESIZE\"]], y_train1)\n",
    "\n",
    "print(score1)"
   ]
  },
  {
   "cell_type": "code",
   "execution_count": 25,
   "id": "898b25e1",
   "metadata": {},
   "outputs": [],
   "source": [
    "# imports for Cross-Val\n",
    "\n",
    "from sklearn.model_selection import cross_val_score\n",
    "\n",
    "from sklearn.model_selection import cross_val_predict"
   ]
  },
  {
   "cell_type": "code",
   "execution_count": 59,
   "id": "49a97e53",
   "metadata": {},
   "outputs": [],
   "source": [
    "# prediction with cross_val\n",
    "\n",
    "yTestHat1 = cross_val_predict(lre, x_test1, y_test1,cv=5)\n",
    "\n",
    "yTestHat = MinMaxScaler2.inverse_transform(yTestHat1)\n",
    "\n",
    "yTestHatDf = pd.DataFrame(yTestHat)\n",
    "\n",
    "yTestHatDf.columns = [\"Predictions\"]"
   ]
  },
  {
   "cell_type": "code",
   "execution_count": 60,
   "id": "1e60a1e5",
   "metadata": {},
   "outputs": [
    {
     "data": {
      "text/plain": [
       "<matplotlib.legend.Legend at 0x74cbfcee20>"
      ]
     },
     "execution_count": 60,
     "metadata": {},
     "output_type": "execute_result"
    },
    {
     "data": {
      "image/png": "[encoded data removed]",
      "text/plain": [
       "<Figure size 432x288 with 1 Axes>"
      ]
     },
     "metadata": {
      "needs_background": "light"
     },
     "output_type": "display_data"
    }
   ],
   "source": [
    "# plot with cross_val predictions\n",
    "\n",
    "ax1 = sns.kdeplot(x = yTestHatDf.Predictions, color = 'r', label = \"Predicted Values\") \n",
    "\n",
    "sns.kdeplot(x = y_test.CO2EMISSIONS, color = \"b\", label = \"Actual Values\", ax = ax1 )\n",
    "\n",
    "plt.legend()"
   ]
  },
  {
   "cell_type": "code",
   "execution_count": 61,
   "id": "7f916712",
   "metadata": {},
   "outputs": [
    {
     "name": "stdout",
     "output_type": "stream",
     "text": [
      "The mean of the r^2 of the folds:  0.8521764688937946 \n",
      "The standard deviation:  0.018312833241984024\n"
     ]
    }
   ],
   "source": [
    "# cross-validation\n",
    "\n",
    "Rcross = cross_val_score(lre, x_test1, y_test1, cv=5)\n",
    "\n",
    "# mean and std\n",
    "\n",
    "print(\"The mean of the r^2 of the folds: \", Rcross.mean(), \"\\nThe standard deviation: \" , Rcross.std())"
   ]
  },
  {
   "cell_type": "code",
   "execution_count": 62,
   "id": "f77aeea1",
   "metadata": {
    "scrolled": true
   },
   "outputs": [
    {
     "data": {
      "text/plain": [
       "0.004040863513582186"
      ]
     },
     "execution_count": 62,
     "metadata": {},
     "output_type": "execute_result"
    }
   ],
   "source": [
    "# mse\n",
    "\n",
    "mse_of_the_folds = -1 * cross_val_score(lre,x_test1, y_test1,cv=5,scoring='neg_mean_squared_error')\n",
    "\n",
    "mean_mse = mse_of_the_folds.mean()\n",
    "\n",
    "mean_mse"
   ]
  },
  {
   "cell_type": "markdown",
   "id": "4eccc4b3",
   "metadata": {},
   "source": [
    "# _05. A Pipeline_"
   ]
  },
  {
   "cell_type": "code",
   "execution_count": 49,
   "id": "b7d20893",
   "metadata": {},
   "outputs": [],
   "source": [
    "from sklearn.pipeline import Pipeline\n",
    "\n",
    "from sklearn.preprocessing import StandardScaler\n",
    "\n",
    "Input1 = [(\"scale\",StandardScaler()), ('model', LinearRegression())]"
   ]
  },
  {
   "cell_type": "code",
   "execution_count": 50,
   "id": "6e21e08a",
   "metadata": {},
   "outputs": [],
   "source": [
    "pipe1 = Pipeline(Input1)"
   ]
  },
  {
   "cell_type": "code",
   "execution_count": 51,
   "id": "0d96dec8",
   "metadata": {},
   "outputs": [
    {
     "data": {
      "text/plain": [
       "Pipeline(steps=[('scale', StandardScaler()), ('model', LinearRegression())])"
      ]
     },
     "execution_count": 51,
     "metadata": {},
     "output_type": "execute_result"
    }
   ],
   "source": [
    "pipe1.fit(x_train, y_train)"
   ]
  },
  {
   "cell_type": "code",
   "execution_count": 54,
   "id": "e360ab53",
   "metadata": {},
   "outputs": [
    {
     "data": {
      "text/plain": [
       "257.823012484476"
      ]
     },
     "execution_count": 54,
     "metadata": {},
     "output_type": "execute_result"
    }
   ],
   "source": [
    "yHatPipe = pipe1.predict(x_test)\n",
    "\n",
    "yHatPipe.mean()"
   ]
  },
  {
   "cell_type": "code",
   "execution_count": 55,
   "id": "5d3f3e5b",
   "metadata": {},
   "outputs": [
    {
     "data": {
      "text/plain": [
       "16.646827998823227"
      ]
     },
     "execution_count": 55,
     "metadata": {},
     "output_type": "execute_result"
    }
   ],
   "source": [
    "# mean-absolute-error\n",
    "\n",
    "mae = mean_absolute_error(y_test, yHatPipe)\n",
    "\n",
    "mae"
   ]
  },
  {
   "cell_type": "code",
   "execution_count": 56,
   "id": "f97cb253",
   "metadata": {},
   "outputs": [
    {
     "data": {
      "text/plain": [
       "546.2591396903439"
      ]
     },
     "execution_count": 56,
     "metadata": {},
     "output_type": "execute_result"
    }
   ],
   "source": [
    "# mean-square-error\n",
    "\n",
    "mse = mean_squared_error(y_test, yHatPipe)\n",
    "\n",
    "mse"
   ]
  }
 ],
 "metadata": {
  "kernelspec": {
   "display_name": "Python 3",
   "language": "python",
   "name": "python3"
  },
  "language_info": {
   "codemirror_mode": {
    "name": "ipython",
    "version": 3
   },
   "file_extension": ".py",
   "mimetype": "text/x-python",
   "name": "python",
   "nbconvert_exporter": "python",
   "pygments_lexer": "ipython3",
   "version": "3.8.8"
  }
 },
 "nbformat": 4,
 "nbformat_minor": 5
}
